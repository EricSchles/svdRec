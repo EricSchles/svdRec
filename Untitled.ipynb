{
 "cells": [
  {
   "cell_type": "code",
   "execution_count": 7,
   "metadata": {
    "collapsed": true,
    "run_control": {
     "frozen": false,
     "read_only": false
    }
   },
   "outputs": [],
   "source": [
    "# A module to handle recommendation systems based on sparse matrix decomposition.\n",
    "# The basis is Singular Value Decomposition (SVD) and there are methods to \n",
    "# return similar items and find the N closest items for a user. \n",
    "#\n",
    "# Written by Z. Miller 05/31/17. Open source if not used for profit.\n",
    "\n",
    "import numpy as np\n",
    "from scipy.sparse import coo_matrix,csr_matrix\n",
    "from scipy.sparse.linalg import svds\n",
    "\n",
    "class svdRec():\n",
    "    def __init__(self):\n",
    "        self.U, self.s, self.V = (None,None,None)\n",
    "        self.user_encoder = None\n",
    "        self.item_encoder = None\n",
    "        self.mat = None\n",
    "        self.decomp = False\n",
    "    \n",
    "    def load_csv_sparse(self,filename,delimiter=',',skiprows=None):\n",
    "        print(\"Note: load_csv_sparse expects a csv in the format of: rowID, colID, Value, ...\")\n",
    "        u, m, r = np.loadtxt(filename, delimiter=delimiter, skiprows=skiprows, usecols=(0,1,2)).T\n",
    "        self.mat = coo_matrix((r, (u-1, m-1)), shape=(u.max(), m.max())).tocsr()\n",
    "        print(\"Created matrix of shape: \",self.mat.shape)\n",
    "        \n",
    "    def load_data_numpy(self, array, data_type=float):\n",
    "        self.mat = csr_matrix(array,dtype=data_type)\n",
    "        print(\"Created matrix of shape: \",self.mat.shape)\n",
    "        \n",
    "    def load_item_encoder(self, d):\n",
    "        if type(d) != dict:\n",
    "            raise TypeError(\"Encoder must be dictionary with key = itemID and value = Title\")\n",
    "        self.item_encoder = d\n",
    "        \n",
    "    def load_user_encoder(self, d):\n",
    "        if type(d) != dict:\n",
    "            raise TypeError(\"Encoder must be dictionary with key = userID and value = Title\")\n",
    "        self.user_encoder = d\n",
    "        \n",
    "    def get_item_name(self,itemid):\n",
    "        if self.item_encoder:\n",
    "            return self.item_encoder[str(itemid)]\n",
    "        else:\n",
    "            return \"No ItemId -> Item-name Encoder Built!\"\n",
    "    \n",
    "    def get_user_name(self,userid):\n",
    "        if self.item_encoder:\n",
    "            return self.user_encoder[str(userid)]\n",
    "        else:\n",
    "            return \"No UserID -> Username Encoder Built!\"\n",
    "    \n",
    "    def SVD(self, num_dim=None):\n",
    "        if num_dim==None:\n",
    "            print(\"Number of SVD dimensions not requested, using %s dimensions.\" % (min(self.mat.shape)-1), \"To set, use num_dim.\")\n",
    "            num_dim = min(self.mat.shape)-1\n",
    "        self.U, self.s, self.VT = svds(self.mat,k=num_dim)\n",
    "        self.decomp = True\n",
    "    \n",
    "    def get_cell(self,i,j):\n",
    "        return self.mat[1,:].toarray()[0,j]\n",
    "    \n",
    "    def get_similar_items(self, itemID, num_recom=5, show_similarity=False):\n",
    "        if not self.decomp:\n",
    "            raise ValueError(\"Must run SVD() before making recommendations!\")\n",
    "        recs = []\n",
    "        for item in range(self.VT.T.shape[0]):\n",
    "                recs.append([item+1,self.item_similarity(itemID-1,item)])\n",
    "        if show_similarity:\n",
    "            final_rec = [(i[0],i[1]) for i in sorted(recs,key=lambda x: x[1],reverse=True)]\n",
    "        else:\n",
    "            final_rec = [i[0] for i in sorted(recs,key=lambda x: x[1],reverse=True)]\n",
    "        return final_rec[:num_recom]\n",
    "    \n",
    "    def item_similarity(self,item1,item2):\n",
    "        if not self.decomp:\n",
    "            raise ValueError(\"Must run SVD() before making recommendations!\")\n",
    "        return np.dot(self.VT.T[item1],self.VT.T[item2])\n",
    "    \n",
    "    def user_similarity(self,user1,user2):\n",
    "        if not self.decomp:\n",
    "            raise ValueError(\"Must run SVD() before making recommendations!\")\n",
    "        return np.dot(self.U[user1],self.U[user2])\n",
    "    \n",
    "    def user_item_similarity(self,user,item):\n",
    "        if not self.decomp:\n",
    "            raise ValueError(\"Must run SVD() before making recommendations!\")\n",
    "        return np.dot(self.U[user],self.VT.T[item])\n",
    "    \n",
    "    def user_item_predict(self,user,item):\n",
    "        if not self.decomp:\n",
    "            raise ValueError(\"Must run SVD() before making recommendations!\")\n",
    "        return np.dot(self.U[user],self.VT.T[item])\n",
    "        \n",
    "    def recommends_for_user(self, userID, num_recom=2, show_similarity=False):\n",
    "        if not self.decomp:\n",
    "            raise ValueError(\"Must run SVD() before making recommendations!\")\n",
    "        recs = []\n",
    "        for item in range(self.VT.T.shape[0]):\n",
    "            recs.append((item+1,self.user_item_predict(userID-1,item)))\n",
    "        if show_similarity:\n",
    "            final_rec = [(i[0],i[1]) for i in sorted(recs,key=lambda x: x[1],reverse=True)]\n",
    "        else:\n",
    "            final_rec = [i[0] for i in sorted(recs,key=lambda x: x[1],reverse=True)]\n",
    "        return final_rec[:num_recom]\n",
    "    \n",
    "    def recs_from_closest_user(self, userID, num_users=1):\n",
    "        if not self.decomp:\n",
    "            raise ValueError(\"Must run SVD() before making recommendations!\")\n",
    "        userrecs = []\n",
    "        for user in range(self.U.shape[0]):\n",
    "            if user!= userID:\n",
    "                userrecs.append([user,self.user_similarity(userID,user)])\n",
    "        final_rec = [i[0] for i in sorted(userrecs,key=lambda x: x[1],reverse=True)]\n",
    "        comp_user = final_rec[:num_users]\n",
    "        print(comp_user)\n",
    "        print(\"User #%s's most similar user is User #%s \"% (userID, comp_user))\n",
    "        data = self.mat.toarray()\n",
    "        current = data[userID]\n",
    "        recs = []\n",
    "        for user in comp_user:\n",
    "            rec_likes = data[user]\n",
    "            for i,item in enumerate(current):\n",
    "                if item != rec_likes[i] and rec_likes[i]!=0:\n",
    "                    recs.append(i)\n",
    "        return list(set(recs))"
   ]
  },
  {
   "cell_type": "code",
   "execution_count": 8,
   "metadata": {
    "collapsed": false
   },
   "outputs": [
    {
     "name": "stdout",
     "output_type": "stream",
     "text": [
      "Note: load_csv_sparse expects a csv in the format of: rowID, colID, Value, ...\n",
      "Created matrix of shape:  (702, 128594)\n"
     ]
    }
   ],
   "source": [
    "svd = svdRec()\n",
    "svd.load_csv_sparse('data/ml-20m/ratings_small.csv', delimiter=',', skiprows=1)\n",
    "svd.SVD(num_dim=100)"
   ]
  },
  {
   "cell_type": "code",
   "execution_count": 11,
   "metadata": {
    "collapsed": false
   },
   "outputs": [
    {
     "name": "stdout",
     "output_type": "stream",
     "text": [
      "[282, 488, 238]\n",
      "User #3's most similar user is User #[282, 488, 238] \n",
      "Items for User 3 to check out based on similar user:\n",
      " [0, 1, 5, 2053, 4104, 9, 2057, 6153, 6154, 12, 6156, 15, 16, 18, 20, 24, 28, 2077, 31, 2079, 33, 2081, 35, 2080, 2082, 38, 2084, 2086, 2088, 2089, 43, 2091, 46, 47, 2095, 49, 57, 2107, 61, 4160, 4161, 2114, 30792, 6217, 2122, 2123, 2124, 86, 2135, 2136, 2138, 2140, 2141, 94, 30815, 2151, 30824, 59500, 109, 110, 2158, 2160, 2161, 116, 6265, 49273, 2173, 4224, 4231, 6280, 2187, 140, 139, 4239, 149, 4245, 4247, 152, 6293, 6296, 156, 157, 160, 164, 8359, 8360, 171, 172, 4269, 8367, 8372, 2230, 184, 6332, 8382, 193, 197, 4298, 6349, 207, 4305, 4307, 4309, 2268, 6364, 6366, 2272, 4320, 6372, 230, 231, 4328, 4326, 234, 6376, 238, 240, 241, 2290, 2288, 4339, 2293, 246, 4342, 4343, 6385, 6391, 2299, 2301, 255, 2305, 259, 260, 261, 2312, 4360, 6409, 2317, 4366, 271, 2320, 4367, 4368, 2323, 276, 4369, 6415, 2328, 6428, 2334, 287, 2336, 289, 4385, 291, 294, 295, 299, 2352, 2353, 306, 307, 2354, 4405, 315, 316, 317, 318, 328, 59724, 2383, 336, 338, 2389, 343, 2392, 2393, 347, 348, 349, 2395, 4445, 4446, 2401, 354, 355, 356, 2405, 6497, 6502, 360, 361, 2408, 363, 366, 369, 2419, 2420, 373, 376, 2426, 379, 6533, 6535, 4488, 6536, 6538, 59783, 6540, 6549, 2454, 412, 419, 4518, 431, 433, 434, 439, 2489, 45498, 8635, 6592, 453, 2501, 456, 2504, 2941, 51661, 467, 2516, 470, 55767, 8665, 479, 480, 2532, 484, 2538, 491, 2541, 499, 501, 63991, 506, 2561, 6657, 2566, 519, 2570, 2571, 526, 530, 2579, 4627, 27154, 538, 540, 4637, 4638, 4640, 545, 4642, 550, 2599, 6710, 2616, 579, 2627, 584, 585, 586, 587, 588, 589, 591, 592, 2639, 594, 595, 596, 598, 4700, 41565, 607, 41570, 612, 6764, 2670, 2671, 4718, 4719, 2676, 4727, 6775, 2682, 4731, 2686, 4740, 647, 60039, 2698, 2699, 2705, 4756, 2709, 660, 2711, 664, 45721, 66202, 2715, 2717, 2719, 672, 2721, 8865, 2723, 60068, 58024, 60073, 27310, 4798, 708, 2760, 713, 2762, 8906, 719, 4815, 2769, 8911, 33492, 4822, 6872, 732, 735, 2787, 2790, 742, 2792, 6888, 746, 53995, 2796, 749, 4847, 54000, 2803, 8948, 64248, 8960, 4866, 8964, 8968, 777, 4873, 779, 2828, 4877, 782, 783, 784, 785, 8969, 787, 4885, 8982, 8983, 4888, 4889, 6933, 6935, 6941, 4895, 2857, 27440, 817, 2870, 2875, 2881, 834, 836, 2889, 2890, 33614, 4946, 857, 4957, 37728, 4962, 2915, 2917, 56170, 4972, 4973, 4974, 4978, 4989, 4990, 4991, 4992, 4993, 2946, 2947, 2948, 901, 2950, 903, 2952, 33668, 2958, 911, 912, 5008, 5013, 918, 2967, 922, 923, 2975, 5026, 2984, 2986, 2992, 2994, 2996, 5047, 952, 2999, 5050, 3004, 5059, 31684, 37829, 967, 3015, 3016, 968, 5063, 5068, 31693, 3033, 5091, 5095, 7146, 3051, 7148, 3053, 58346, 7152, 54258, 3059, 5108, 1019, 1021, 3071, 1024, 54271, 3074, 1027, 7172, 1028, 1031, 1032, 3081, 1034, 1035, 1036, 3080, 5134, 1041, 1046, 1058, 5158, 1063, 3112, 3113, 33835, 56366, 1072, 5170, 1078, 1079, 27705, 1087, 1088, 1089, 1093, 1096, 1100, 3151, 3154, 3156, 7253, 7254, 3159, 3158, 62552, 1119, 5217, 5219, 3173, 1126, 3175, 1128, 1125, 3174, 5224, 1134, 1135, 1146, 1147, 7292, 3197, 7302, 3207, 7310, 1172, 38037, 1174, 1175, 7322, 7324, 27807, 1185, 5281, 1187, 1188, 5283, 1192, 1195, 1196, 1197, 1198, 1199, 1200, 7345, 5298, 3252, 1205, 3253, 1207, 3256, 1209, 5308, 1213, 1214, 1215, 7360, 58558, 1218, 3266, 1220, 1221, 1222, 3270, 1224, 3268, 7365, 5323, 5324, 1229, 7372, 1233, 52434, 3286, 1239, 1240, 1244, 1245, 1246, 1249, 3300, 5348, 1255, 1257, 1258, 1259, 1260, 3309, 1262, 1261, 1264, 1269, 1270, 1274, 1275, 3327, 1280, 5375, 5376, 5379, 1281, 5381, 5377, 1287, 48393, 1290, 60683, 1297, 7443, 1301, 1303, 5400, 1306, 7450, 7453, 3358, 3362, 5414, 1319, 5417, 3385, 1345, 5442, 1347, 5443, 1349, 5444, 3395, 5448, 1353, 5451, 3403, 3407, 5457, 5458, 1366, 5463, 1369, 68953, 3420, 3423, 1376, 66914, 1379, 34149, 5478, 5480, 1386, 3439, 1392, 1393, 34161, 1395, 3447, 5501, 1406, 1408, 62848, 3467, 3469, 3470, 40338, 3478, 3480, 1436, 3488, 3497, 3498, 1465, 3523, 5571, 3526, 5576, 4365, 1484, 3537, 3542, 1499, 5601, 5602, 1512, 1516, 3568, 5617, 52721, 5619, 5620, 7668, 1526, 3577, 3580, 5635, 1541, 1543, 62998, 1561, 1563, 1565, 3614, 3616, 5666, 1572, 5668, 3622, 5672, 1579, 3628, 5678, 1583, 3632, 1586, 1587, 3638, 1591, 26171, 1609, 1613, 1616, 3675, 3687, 1640, 63081, 3696, 3701, 3702, 5751, 3716, 1672, 63112, 1675, 3725, 61070, 1679, 1681, 1687, 1689, 1692, 3744, 1700, 1701, 3750, 1703, 3751, 3752, 5799, 5803, 1712, 5809, 3763, 5815, 1720, 1721, 50871, 1725, 1726, 1728, 1730, 1731, 3792, 1746, 1747, 3798, 67294, 1759, 3820, 5871, 1776, 3825, 1778, 3824, 3830, 1783, 5880, 1800, 5899, 5901, 1808, 3861, 3868, 26402, 1830, 3881, 1834, 3892, 5942, 1847, 3896, 5944, 5951, 5956, 3910, 32586, 1875, 1883, 1887, 5988, 5990, 3944, 3947, 40814, 1906, 6002, 6005, 1910, 1918, 3966, 3967, 3968, 1922, 1923, 51076, 53120, 53124, 3976, 3983, 3985, 3987, 3989, 3990, 3993, 3995, 4001, 4004, 1960, 4010, 6059, 4013, 4014, 4015, 4017, 59314, 4021, 4022, 4024, 4026, 1981, 1982, 4033, 1996, 1999, 2001, 4053, 2010, 2011, 4060, 2013, 2017, 4068, 2027, 6124, 4089, 2047]\n"
     ]
    }
   ],
   "source": [
    "user_to_rec = 3\n",
    "print(\"Items for User %s to check out based on similar user:\\n\"% user_to_rec, svd.recs_from_closest_user(user_to_rec,num_users=3))"
   ]
  },
  {
   "cell_type": "code",
   "execution_count": null,
   "metadata": {
    "collapsed": true
   },
   "outputs": [],
   "source": []
  }
 ],
 "metadata": {
  "kernelspec": {
   "display_name": "Python 3",
   "language": "python",
   "name": "python3"
  },
  "language_info": {
   "codemirror_mode": {
    "name": "ipython",
    "version": 3
   },
   "file_extension": ".py",
   "mimetype": "text/x-python",
   "name": "python",
   "nbconvert_exporter": "python",
   "pygments_lexer": "ipython3",
   "version": "3.6.1"
  },
  "latex_envs": {
   "LaTeX_envs_menu_present": true,
   "bibliofile": "biblio.bib",
   "cite_by": "apalike",
   "current_citInitial": 1,
   "eqLabelWithNumbers": true,
   "eqNumInitial": 1,
   "hotkeys": {
    "equation": "Ctrl-E",
    "itemize": "Ctrl-I"
   },
   "labels_anchors": false,
   "latex_user_defs": false,
   "report_style_numbering": false,
   "user_envs_cfg": false
  },
  "toc": {
   "colors": {
    "hover_highlight": "#DAA520",
    "running_highlight": "#FF0000",
    "selected_highlight": "#FFD700"
   },
   "moveMenuLeft": true,
   "nav_menu": {
    "height": "12px",
    "width": "252px"
   },
   "navigate_menu": true,
   "number_sections": true,
   "sideBar": true,
   "threshold": 4,
   "toc_cell": false,
   "toc_section_display": "block",
   "toc_window_display": false
  }
 },
 "nbformat": 4,
 "nbformat_minor": 2
}
