{
 "cells": [
  {
   "cell_type": "markdown",
   "metadata": {},
   "source": [
    "## Demo of svdRec, a Python3 module for Recommenders"
   ]
  },
  {
   "cell_type": "markdown",
   "metadata": {},
   "source": [
    "Download the movielens dataset [here](http://files.grouplens.org/datasets/movielens/ml-20m.zip) \n",
    "\n",
    "** Before loading in the data, I highly recommend cutting out some of the \"ratings.csv\" file. It's 20M rows long and can take a long time to process. In bash you can do something like: **\n",
    "\n",
    "`cat ratings.csv | head -100000 > ratings_small.csv` \n",
    "\n",
    "We'll also load in the movies.csv file to a DataFrame - this will act as a dictionary to translate between MovieID and Movie Titles."
   ]
  },
  {
   "cell_type": "code",
   "execution_count": 3,
   "metadata": {
    "collapsed": false,
    "run_control": {
     "frozen": false,
     "read_only": false
    }
   },
   "outputs": [
    {
     "name": "stdout",
     "output_type": "stream",
     "text": [
      "Note: load_csv_sparse expects a csv in the format of: rowID, colID, Value, ...\n",
      "Created matrix of shape:  (702, 128594)\n"
     ]
    }
   ],
   "source": [
    "import svdRec\n",
    "import pandas as pd \n",
    "\n",
    "svd = svdRec.svdRec()\n",
    "svd.load_csv_sparse('data/ml-20m/ratings_small.csv', delimiter=',', skiprows=1)\n",
    "svd.SVD(num_dim=100)"
   ]
  },
  {
   "cell_type": "code",
   "execution_count": 4,
   "metadata": {
    "collapsed": false
   },
   "outputs": [],
   "source": [
    "movies = pd.read_table('data/ml-20m/movies.csv', sep=',',names = ['movieId',\"Title\",\"genres\"])\n",
    "movie_dict = {}\n",
    "for i, row in movies.iterrows():\n",
    "    movie_dict.update({row['movieId']: row['Title']})\n",
    "svd.load_item_encoder(movie_dict)"
   ]
  },
  {
   "cell_type": "code",
   "execution_count": 5,
   "metadata": {
    "collapsed": false
   },
   "outputs": [
    {
     "name": "stdout",
     "output_type": "stream",
     "text": [
      "(3114, 0.12452773823527534)\n",
      "Toy Story 2 (1999) \n",
      "\n",
      "(1, 0.096984857294616075)\n",
      "Toy Story (1995) \n",
      "\n",
      "(2355, 0.043104443630874914)\n",
      "Bug's Life, A (1998) \n",
      "\n",
      "(2987, 0.041949127538016995)\n",
      "Who Framed Roger Rabbit? (1988) \n",
      "\n",
      "(6377, 0.040522854363774119)\n",
      "Finding Nemo (2003) \n",
      "\n"
     ]
    }
   ],
   "source": [
    "MOVIE_ID = 3114 # Toy Story 2\n",
    "for item in svd.get_similar_items(MOVIE_ID,show_similarity=True):\n",
    "    print(item)\n",
    "    print(svd.get_item_name(item[0]),'\\n')"
   ]
  },
  {
   "cell_type": "code",
   "execution_count": 7,
   "metadata": {
    "collapsed": false
   },
   "outputs": [
    {
     "name": "stdout",
     "output_type": "stream",
     "text": [
      "ID:  356\n",
      "Actual Rating:  5.0\n",
      "Title:  Forrest Gump (1994) \n",
      "\n",
      "ID:  1961\n",
      "Actual Rating:  0.0\n",
      "Title:  Rain Man (1988) \n",
      "\n",
      "ID:  1270\n",
      "Actual Rating:  0.0\n",
      "Title:  Back to the Future (1985) \n",
      "\n",
      "ID:  1097\n",
      "Actual Rating:  0.0\n",
      "Title:  E.T. the Extra-Terrestrial (1982) \n",
      "\n",
      "ID:  1307\n",
      "Actual Rating:  0.0\n",
      "Title:  When Harry Met Sally... (1989) \n",
      "\n"
     ]
    }
   ],
   "source": [
    "USERID=25\n",
    "for item in svd.recommends_for_user(USERID, num_recom=5, show_similarity=False):\n",
    "    print(\"ID: \", item)\n",
    "    print(\"Actual Rating: \", svd.mat.toarray()[USERID][item])\n",
    "    print(\"Title: \",svd.get_item_name(item),'\\n')"
   ]
  },
  {
   "cell_type": "code",
   "execution_count": 11,
   "metadata": {
    "collapsed": false
   },
   "outputs": [
    {
     "name": "stdout",
     "output_type": "stream",
     "text": [
      "User #3's most similar user is User #282 \n",
      "Items for User 3 to check out based on similar user:\n",
      " [5, 9, 15, 24, 28, 31, 33, 35, 46, 49, 94, 109, 110, 140, 149, 164, 171, 184, 193, 197, 207, 230, 231, 234, 246, 259, 287, 289, 295, 299, 306, 307, 315, 317, 328, 336, 343, 348, 355, 356, 379, 433, 434, 453, 456, 467, 470, 479, 480, 491, 499, 506, 519, 526, 538, 540, 550, 579, 588, 589, 591, 592, 596, 607, 647, 664, 713, 719, 732, 735, 777, 779, 783, 785, 834, 857, 903, 911, 912, 922, 923, 952, 967, 1035, 1041, 1046, 1078, 1079, 1088, 1089, 1093, 1096, 1119, 1126, 1128, 1134, 1135, 1172, 1174, 1175, 1185, 1188, 1192, 1195, 1197, 1199, 1200, 1205, 1207, 1209, 1213, 1214, 1215, 1218, 1220, 1221, 1222, 1224, 1229, 1233, 1239, 1240, 1244, 1245, 1246, 1255, 1257, 1258, 1259, 1260, 1262, 1269, 1274, 1275, 1280, 1287, 1290, 1297, 1319, 1345, 1347, 1349, 1353, 1369, 1386, 1392, 1393, 1465, 1484, 1499, 1512, 1526, 1543, 1572, 1579, 1586, 1616, 1640, 1672, 1679, 1689, 1692, 1700, 1703, 1720, 1728, 1731, 1747, 1778, 1808, 1923, 1960, 1981, 1982, 1996, 1999, 2027, 2114, 2158, 2173, 2187, 2290, 2312, 2317, 2320, 2323, 2328, 2336, 2401, 2405, 2426, 2454, 2501, 2504, 2516, 2532, 2541, 2570, 2579, 2599, 2627, 2639, 2670, 2671, 2676, 2682, 2698, 2699, 2705, 2709, 2711, 2715, 2721, 2769, 2790, 2857, 2870, 2889, 2915, 2917, 2946, 2947, 2948, 2950, 2958, 2967, 2975, 2984, 2992, 2994, 2996, 3004, 3015, 3016, 3051, 3074, 3112, 3151, 3159, 3173, 3175, 3197, 3266, 3270, 3309, 3362, 3407, 3423, 3469, 3470, 3480, 3497, 3498, 3523, 3526, 3542, 3568, 3577, 3580, 3614, 3616, 3622, 3628, 3632, 3638, 3675, 3687, 3696, 3701, 3702, 3716, 3725, 3750, 3751, 3752, 3792, 3825, 3868, 3976, 3983, 3985, 3993, 4001, 4004, 4010, 4021, 4026, 4060, 4104, 4328, 4360, 4366, 4405, 4488, 4627, 4637, 4642, 4740]\n"
     ]
    }
   ],
   "source": [
    "user_to_rec = 3\n",
    "print(\"Items for User %s to check out based on similar user:\\n\"% user_to_rec, svd.recs_from_closest_user(user_to_rec))"
   ]
  },
  {
   "cell_type": "code",
   "execution_count": null,
   "metadata": {
    "collapsed": true
   },
   "outputs": [],
   "source": []
  }
 ],
 "metadata": {
  "kernelspec": {
   "display_name": "Python 3",
   "language": "python",
   "name": "python3"
  },
  "language_info": {
   "codemirror_mode": {
    "name": "ipython",
    "version": 3
   },
   "file_extension": ".py",
   "mimetype": "text/x-python",
   "name": "python",
   "nbconvert_exporter": "python",
   "pygments_lexer": "ipython3",
   "version": "3.6.1"
  },
  "latex_envs": {
   "LaTeX_envs_menu_present": true,
   "bibliofile": "biblio.bib",
   "cite_by": "apalike",
   "current_citInitial": 1,
   "eqLabelWithNumbers": true,
   "eqNumInitial": 1,
   "hotkeys": {
    "equation": "Ctrl-E",
    "itemize": "Ctrl-I"
   },
   "labels_anchors": false,
   "latex_user_defs": false,
   "report_style_numbering": false,
   "user_envs_cfg": false
  },
  "toc": {
   "colors": {
    "hover_highlight": "#DAA520",
    "running_highlight": "#FF0000",
    "selected_highlight": "#FFD700"
   },
   "moveMenuLeft": true,
   "nav_menu": {
    "height": "30px",
    "width": "252px"
   },
   "navigate_menu": true,
   "number_sections": true,
   "sideBar": true,
   "threshold": 4,
   "toc_cell": false,
   "toc_section_display": "block",
   "toc_window_display": false
  }
 },
 "nbformat": 4,
 "nbformat_minor": 2
}
